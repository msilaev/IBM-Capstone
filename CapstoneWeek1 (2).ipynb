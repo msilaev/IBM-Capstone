{
 "cells": [
  {
   "cell_type": "markdown",
   "metadata": {},
   "source": [
    "# Capstone"
   ]
  },
  {
   "cell_type": "markdown",
   "metadata": {},
   "source": [
    "## Battle of Neighbourhoods"
   ]
  },
  {
   "cell_type": "markdown",
   "metadata": {},
   "source": [
    "### Chinese restaurants in NY"
   ]
  },
  {
   "cell_type": "markdown",
   "metadata": {},
   "source": [
    "#### Introduction"
   ]
  },
  {
   "cell_type": "markdown",
   "metadata": {},
   "source": [
    " <font size=\"4\"> \n",
    "    \n",
    " During recent decades China has experienced fast economic growth. This resulted in the expansion of Chinese cuisine worldwide. \n",
    " The development of Chinese restaurants and food chains can be stimulated by the \n",
    " two factors. First, there the number of tourists and immigrants from China \n",
    " is apparently increasing in Western Europe and US. Second, Chinese cuisine becomes more and more popular\n",
    " among people of non-Chinese origin. Therefore, opening the Chinese  restaurant in one of the \n",
    " major cities seems to the a plausible business project.  The choice of New York City\n",
    " is motivated by the fact that it hosts the larges Chinese-American population of any city proper, with over half a million (Wikipedia). \n",
    " To figure out which location for such a restaurant would be more profitable we will analyze the available data on existing restaurants of the \n",
    " same type in different New York neighborhoods and boroughs.\n",
    "    </font>"
   ]
  },
  {
   "cell_type": "markdown",
   "metadata": {},
   "source": [
    "#### Data"
   ]
  },
  {
   "cell_type": "markdown",
   "metadata": {},
   "source": [
    "<font size=\"4\"> \n",
    "    \n",
    "- Data on New York City neighborhoods, boroughs to \n",
    "include boundaries, latitude, longitude, restaurants, and restaurant ratings and tips are required.\n",
    "- New York City data containing the neighborhoods and boroughs, latitudes, and longitudes will be \n",
    "obtained from the data source: https://cocl.us/new_york_dataset\n",
    "- New York City data containing neighborhood boundaries will be obtained from the data source: \n",
    "https://data.cityofnewyork.us/City-Government/Borough-Boundaries/tqmj-j8zm\n",
    "- All data related to locations and quality of Italian restaurants will be obtained via the \n",
    "FourSquare API utilized via the Request library in Python.\n",
    "</font>"
   ]
  },
  {
   "cell_type": "markdown",
   "metadata": {},
   "source": [
    "#### Methodology"
   ]
  },
  {
   "cell_type": "markdown",
   "metadata": {},
   "source": [
    "<font size=\"4\">\n",
    "\n",
    "  - We will download the data from https://cocl.us/new_york_dataset and cleaned transform it into a dataframe.\n",
    "  - We will use FourSquare to find Chinese restaurants and get their ratings, tips, and likes. This information will be added to the dataframe.\n",
    "  - Data will be presented using different visualisation tools available in Python.\n",
    "</font>"
   ]
  },
  {
   "cell_type": "markdown",
   "metadata": {},
   "source": [
    "#### Problem Statement"
   ]
  },
  {
   "cell_type": "markdown",
   "metadata": {},
   "source": [
    "<font size=\"4\">\n",
    "    \n",
    "- Where are the most popular Chinese cuisine restaurant are located in New York City?\n",
    "- Which location is optimal for opening the new Chinese restaurant in New York City ?\n",
    "</font>"
   ]
  },
  {
   "cell_type": "code",
   "execution_count": null,
   "metadata": {},
   "outputs": [],
   "source": []
  }
 ],
 "metadata": {
  "kernelspec": {
   "display_name": "Python",
   "language": "python",
   "name": "conda-env-python-py"
  },
  "language_info": {
   "codemirror_mode": {
    "name": "ipython",
    "version": 3
   },
   "file_extension": ".py",
   "mimetype": "text/x-python",
   "name": "python",
   "nbconvert_exporter": "python",
   "pygments_lexer": "ipython3",
   "version": "3.6.7"
  }
 },
 "nbformat": 4,
 "nbformat_minor": 4
}
